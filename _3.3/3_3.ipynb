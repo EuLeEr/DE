{
 "cells": [
  {
   "cell_type": "code",
   "execution_count": 1,
   "id": "9a348f1e",
   "metadata": {},
   "outputs": [],
   "source": [
    "from pyspark import SparkContext, SparkConf\n",
    "from pyspark.sql import SparkSession\n",
    "from pyspark.sql.functions import round, col, floor\n"
   ]
  },
  {
   "cell_type": "code",
   "execution_count": 2,
   "id": "2030abd8",
   "metadata": {},
   "outputs": [],
   "source": [
    "spark = SparkSession.builder.master(\"local\").\\\n",
    "                                    appName(\"Word count\"). \\\n",
    "                                    config(\"spark.driver.bindAddress\",\"localhost\").\\\n",
    "                                    config(\"spark.ui.port\",\"4040\").\\\n",
    "                                    getOrCreate() "
   ]
  },
  {
   "cell_type": "markdown",
   "id": "43645c04",
   "metadata": {},
   "source": [
    "тип события, значение из списка (факт посещения(visit), клик по визуальному элементу страницы(click), скролл(scroll), перед на другую страницу(move)).\n",
    "\n",
    "·   page_id – id текущей страницы. Тип - последовательность чисел фиксированной длины.\n",
    "\n",
    "·   tag – каждая страница с новостью размечается редакцией специальными тегами, которые отражают тематику конкретной новости со страницы. Возможный список тематик: политика, спорт, медицина и т.д.\n",
    "\n",
    "·   sign – наличие у пользователя личного кабинета. Значения – True/False.*/"
   ]
  },
  {
   "cell_type": "code",
   "execution_count": 3,
   "id": "c074f256",
   "metadata": {},
   "outputs": [],
   "source": [
    "data = [(12345, 1667627426, \"click\", 101, 'Sport', False),\n",
    "        (12346, 1667627427, \"visit\", 102, 'Медицина', False),\n",
    "        (12347, 8667627428, \"click\", 103, 'Sport', True),\n",
    "        (12346, 1667627429, \"click\", 104, 'Политика', False),\n",
    "        (12349, 4667627430, \"click\", 103, 'Sport', True),\n",
    "        ]\n",
    "column =  ['id','timestamp','type', 'page_id','tag', 'sign'] \n",
    "comment = ''''''\n",
    "\n",
    "df = spark.createDataFrame(data, column)\n",
    "\n",
    "         "
   ]
  },
  {
   "cell_type": "code",
   "execution_count": 4,
   "id": "799d4bb2",
   "metadata": {},
   "outputs": [
    {
     "name": "stdout",
     "output_type": "stream",
     "text": [
      "+-----+-----+\n",
      "|   id|count|\n",
      "+-----+-----+\n",
      "|12346|    2|\n",
      "|12349|    1|\n",
      "|12347|    1|\n",
      "|12345|    1|\n",
      "+-----+-----+\n",
      "\n"
     ]
    }
   ],
   "source": [
    "#·   Вывести топ-5 самых активных посетителей сайта\n",
    "df.groupBy('id').count().orderBy('count', ascending=False).show(5)"
   ]
  },
  {
   "cell_type": "code",
   "execution_count": 5,
   "id": "91886dd5",
   "metadata": {},
   "outputs": [
    {
     "name": "stdout",
     "output_type": "stream",
     "text": [
      "+-----+-----+-------+\n",
      "| sign|count|percent|\n",
      "+-----+-----+-------+\n",
      "| true|    2|   40.0|\n",
      "|false|    3|   60.0|\n",
      "+-----+-----+-------+\n",
      "\n"
     ]
    }
   ],
   "source": [
    "#·   Посчитать процент посетителей, у которых есть ЛК\n",
    "df.groupBy('sign').count().withColumn('percent', round(col('count')/df.count()*100, 2)).show()\n",
    "\n",
    "\n"
   ]
  },
  {
   "cell_type": "code",
   "execution_count": 6,
   "id": "95ef8c91",
   "metadata": {},
   "outputs": [
    {
     "name": "stdout",
     "output_type": "stream",
     "text": [
      "+-------+-----+\n",
      "|page_id|count|\n",
      "+-------+-----+\n",
      "|    103|    2|\n",
      "|    104|    1|\n",
      "|    101|    1|\n",
      "+-------+-----+\n",
      "\n"
     ]
    }
   ],
   "source": [
    "# Вывести топ-5 страниц сайта по показателю общего кол-ва кликов на данной странице\n",
    "df.filter(df.type == 'click').groupBy('page_id').count().orderBy('count', ascending=False).show(5)"
   ]
  },
  {
   "cell_type": "code",
   "execution_count": 7,
   "id": "e6ca047f",
   "metadata": {},
   "outputs": [
    {
     "name": "stdout",
     "output_type": "stream",
     "text": [
      "+-----+----------+-----+-------+--------+-----+----+\n",
      "|   id| timestamp| type|page_id|     tag| sign|time|\n",
      "+-----+----------+-----+-------+--------+-----+----+\n",
      "|12345|1667627426|click|    101|   Sport|false|   1|\n",
      "|12346|1667627427|visit|    102|Медицина|false|   1|\n",
      "|12347|8667627428|click|    103|   Sport| true|   4|\n",
      "|12346|1667627429|click|    104|Политика|false|   1|\n",
      "|12349|4667627430|click|    103|   Sport| true|   2|\n",
      "+-----+----------+-----+-------+--------+-----+----+\n",
      "\n"
     ]
    }
   ],
   "source": [
    "# Добавьте столбец к фрейму данных со значением временного диапазона в рамках суток с размером окна – 4 часа(0-4, 4-8, 8-12 и т.д.)\n",
    "df.withColumn('time', floor(df.timestamp % 86400 / 14400)).show()\n",
    "#df.withColumn('time', df.timestamp % 86400 / 14400).groupBy('time').count().show()\n",
    "#df.withColumn('time', round(df.timestamp % 86400 / 14400)).groupBy('time').count().show()"
   ]
  },
  {
   "cell_type": "code",
   "execution_count": 8,
   "id": "4e921af9",
   "metadata": {},
   "outputs": [
    {
     "name": "stdout",
     "output_type": "stream",
     "text": [
      "+----+-----+\n",
      "|time|count|\n",
      "+----+-----+\n",
      "|   1|    3|\n",
      "+----+-----+\n",
      "only showing top 1 row\n",
      "\n"
     ]
    }
   ],
   "source": [
    "#Выведите временной промежуток на основе предыдущего задания, в течение которого было больше всего активностей на сайте.\n",
    "df.withColumn('time', floor(df.timestamp % 86400 / 14400)).groupBy('time').count().orderBy('count', ascending=False).show(1)"
   ]
  },
  {
   "cell_type": "markdown",
   "id": "e34f4c6c",
   "metadata": {},
   "source": [
    "'''·   Создайте второй фрейм данных, который будет содержать информацию о ЛК посетителя сайта со следующим списком атрибутов\n",
    "\n",
    "1.       Id – уникальный идентификатор личного кабинета\n",
    "\n",
    "2.       User_id – уникальный идентификатор посетителя\n",
    "\n",
    "3.       ФИО посетителя\n",
    "\n",
    "4.    Дату рождения посетителя \n",
    "\n",
    "5.       Дата создания ЛК'''"
   ]
  },
  {
   "cell_type": "code",
   "execution_count": 9,
   "id": "ca10399f",
   "metadata": {},
   "outputs": [],
   "source": [
    "\n",
    "column2 =  ['id','user_id','fio', 'birthday','date_create']\n",
    "data2 = [(101, 12345, \"Иванов Иван Иванович\", '1990-01-01', '2020-01-01'),\n",
    "        (102, 12346, \"Петров Петр Петрович\", '1990-01-02', '2020-01-02'),\n",
    "        (103, 12347, \"Сидоров Сидор Сидорович\", '1990-01-03', '2020-01-03'),\n",
    "        (104, 12348, \"Алексеев Алексей Алексеевич\", '1990-01-04', '2020-01-04'),\n",
    "        (105, 12349, \"Андреев Андрей Андреевич\", '1990-01-05', '2020-01-05')]\n",
    "df2 = spark.createDataFrame(data2, column2)\n"
   ]
  },
  {
   "cell_type": "code",
   "execution_count": 10,
   "id": "bc2e2520",
   "metadata": {},
   "outputs": [
    {
     "name": "stdout",
     "output_type": "stream",
     "text": [
      "+--------------------+\n",
      "|                 fio|\n",
      "+--------------------+\n",
      "|Иванов Иван Иванович|\n",
      "|Сидоров Сидор Сид...|\n",
      "|Андреев Андрей Ан...|\n",
      "+--------------------+\n",
      "\n"
     ]
    }
   ],
   "source": [
    "#·   Вывести фамилии посетителей, которые читали хотя бы одну новость про спорт.\n",
    "df.join(df2, df.id == df2.user_id).filter(df.tag == 'Sport').select('fio').show()"
   ]
  },
  {
   "cell_type": "code",
   "execution_count": 11,
   "id": "680859f8",
   "metadata": {},
   "outputs": [
    {
     "name": "stdout",
     "output_type": "stream",
     "text": [
      "+---+-------+--------------------+----------+-----------+-----+----------+-----+-------+-----+----+----+\n",
      "| id|user_id|                 fio|  birthday|date_create|   id| timestamp| type|page_id|  tag|sign|diff|\n",
      "+---+-------+--------------------+----------+-----------+-----+----------+-----+-------+-----+----+----+\n",
      "|103|  12347|Сидоров Сидор Сид...|1990-01-03| 2020-01-03|12347|8667627428|click|    103|Sport|true|null|\n",
      "+---+-------+--------------------+----------+-----------+-----+----------+-----+-------+-----+----+----+\n",
      "only showing top 1 row\n",
      "\n"
     ]
    }
   ],
   "source": [
    "#·   Выведите 10% ЛК, у которых максимальная разница между датой создания ЛК и датой последнего посещения.\n",
    "df2.join(df, df2.id == df.page_id).filter(df.sign == True).withColumn('diff', df2.date_create - df.timestamp).orderBy('diff', ascending=False).show(1)"
   ]
  },
  {
   "cell_type": "code",
   "execution_count": 12,
   "id": "d64d462f",
   "metadata": {},
   "outputs": [
    {
     "name": "stderr",
     "output_type": "stream",
     "text": [
      "----------------------------------------\n",
      "Exception occurred during processing of request from ('127.0.0.1', 60031)\n"
     ]
    }
   ],
   "source": [
    "#·   Вывести топ-5 страниц, которые чаще всего посещают мужчины и топ-5 страниц, которые посещают чаще женщины.\n",
    "# -  у нас никаких полов нет, "
   ]
  },
  {
   "cell_type": "markdown",
   "id": "73357379",
   "metadata": {},
   "source": [
    "e.       Создайте в Postgres таблицы аналогичной структуры и выполните следующие задания с помощью Spark.\n",
    "\n",
    "·    Создайте витрину данных в Postgres со следующим содержанием\n",
    "\n",
    "1.       Id посетителя\n",
    "\n",
    "2.       Возраст посетителя\n",
    "\n",
    "3.       Пол посетителя (постарайтесь описать логику вычисления пола в отдельной пользовательской функции)\n",
    "\n",
    "4.       Любимая тематика новостей\n",
    "\n",
    "5.       Любимый временной диапазон посещений\n",
    "\n",
    "6.       Id личного кабинета\n",
    "\n",
    "7.       Разница в днях между созданием ЛК и датой последнего посещения. (-1 если ЛК нет)\n",
    "\n",
    "8.       Общее кол-во посещений сайта\n",
    "\n",
    "9.       Средняя длина сессии(сессией считаем временной промежуток, который охватывает последовательность событий, которые происходили подряд с разницей не более 5 минут).\n",
    "\n",
    "10.   Среднее кол-во активностей в рамках одной сессии"
   ]
  },
  {
   "cell_type": "code",
   "execution_count": 4,
   "id": "243278d8",
   "metadata": {},
   "outputs": [],
   "source": [
    "#·    Создайте витрину данных в Postgres со следующим содержанием\n",
    "# 1.       Id посетителя\n",
    "\n",
    "\n",
    "\n"
   ]
  },
  {
   "cell_type": "code",
   "execution_count": null,
   "id": "72e71d37",
   "metadata": {},
   "outputs": [],
   "source": []
  }
 ],
 "metadata": {
  "kernelspec": {
   "display_name": "Python 3 (ipykernel)",
   "language": "python",
   "name": "python3"
  },
  "language_info": {
   "codemirror_mode": {
    "name": "ipython",
    "version": 3
   },
   "file_extension": ".py",
   "mimetype": "text/x-python",
   "name": "python",
   "nbconvert_exporter": "python",
   "pygments_lexer": "ipython3",
   "version": "3.9.13"
  },
  "vscode": {
   "interpreter": {
    "hash": "46361d1138d37b050dbf2507ab353201470e98370899d3e0761fa20227a2614f"
   }
  }
 },
 "nbformat": 4,
 "nbformat_minor": 5
}
