{
 "cells": [
  {
   "cell_type": "code",
   "execution_count": 3,
   "id": "8efe6e37",
   "metadata": {},
   "outputs": [],
   "source": [
    "#import findspark\n",
    "#findspark.init()\n",
    "#findspark.find()\n",
    "#import pyspark\n",
    "#findspark.find()"
   ]
  },
  {
   "cell_type": "code",
   "execution_count": 20,
   "id": "9a348f1e",
   "metadata": {},
   "outputs": [],
   "source": [
    "from pyspark import SparkContext, SparkConf\n",
    "from pyspark.sql import SparkSession\n",
    "from pyspark.sql.functions import round, col, floor\n"
   ]
  },
  {
   "cell_type": "code",
   "execution_count": 14,
   "id": "2030abd8",
   "metadata": {},
   "outputs": [],
   "source": [
    "spark = SparkSession.builder.master(\"local\").\\\n",
    "                                    appName(\"Word count\"). \\\n",
    "                                    config(\"spark.driver.bindAddress\",\"localhost\").\\\n",
    "                                    config(\"spark.ui.port\",\"4040\").\\\n",
    "                                    getOrCreate() "
   ]
  },
  {
   "cell_type": "code",
   "execution_count": 15,
   "id": "c074f256",
   "metadata": {},
   "outputs": [],
   "source": [
    "data = [(12345, 1667627426, \"click\", 101, 'Sport', False),\n",
    "        (12346, 1667627427, \"visit\", 102, 'Медицина', False),\n",
    "        (12347, 8667627428, \"click\", 103, 'Sport', True),\n",
    "        (12346, 1667627429, \"click\", 104, 'Политика', False),\n",
    "        (12349, 4667627430, \"click\", 103, 'Sport', True),\n",
    "        ]\n",
    "column =  ['id','timestamp','type', 'page_id','tag', 'sign'] \n",
    "comment = '''тип события, значение из списка (факт посещения(visit), клик по визуальному элементу страницы(click), скролл(scroll), перед на другую страницу(move)).\n",
    "\n",
    "·   page_id – id текущей страницы. Тип - последовательность чисел фиксированной длины.\n",
    "\n",
    "·   tag – каждая страница с новостью размечается редакцией специальными тегами, которые отражают тематику конкретной новости со страницы. Возможный список тематик: политика, спорт, медицина и т.д.\n",
    "\n",
    "·   sign – наличие у пользователя личного кабинета. Значения – True/False.*/'''\n",
    "\n",
    "df = spark.createDataFrame(data, column)\n",
    "\n",
    "         "
   ]
  },
  {
   "cell_type": "code",
   "execution_count": 18,
   "id": "799d4bb2",
   "metadata": {},
   "outputs": [
    {
     "name": "stdout",
     "output_type": "stream",
     "text": [
      "+-----+-----+\n",
      "|   id|count|\n",
      "+-----+-----+\n",
      "|12346|    2|\n",
      "|12345|    1|\n",
      "|12349|    1|\n",
      "|12347|    1|\n",
      "+-----+-----+\n",
      "\n"
     ]
    }
   ],
   "source": [
    "#·   Вывести топ-5 самых активных посетителей сайта\n",
    "df.groupBy('id').count().orderBy('count', ascending=False).show(5)"
   ]
  },
  {
   "cell_type": "code",
   "execution_count": 16,
   "id": "91886dd5",
   "metadata": {},
   "outputs": [],
   "source": [
    "#·   Посчитать процент посетителей, у которых есть ЛК#\n",
    "\n",
    "#df.groupBy('sign').count().show()\n",
    "#df.groupBy('sign').count().withColumn('percent', df.groupBy('sign').count()['count']/df.count()*100).show()\n",
    "#df.groupBy('sign').count().withColumn('percent', df.groupBy('sign').count()/df.count()*100)\n",
    "#df.show()\n"
   ]
  },
  {
   "cell_type": "code",
   "execution_count": 19,
   "id": "95ef8c91",
   "metadata": {},
   "outputs": [
    {
     "name": "stdout",
     "output_type": "stream",
     "text": [
      "+-------+-----+\n",
      "|page_id|count|\n",
      "+-------+-----+\n",
      "|    103|    2|\n",
      "|    101|    1|\n",
      "|    104|    1|\n",
      "+-------+-----+\n",
      "\n"
     ]
    }
   ],
   "source": [
    "# Вывести топ-5 страниц сайта по показателю общего кол-ва кликов на данной странице\n",
    "df.filter(df.type == 'click').groupBy('page_id').count().orderBy('count', ascending=False).show(5)"
   ]
  },
  {
   "cell_type": "code",
   "execution_count": 21,
   "id": "e6ca047f",
   "metadata": {},
   "outputs": [
    {
     "name": "stdout",
     "output_type": "stream",
     "text": [
      "+-----+----------+-----+-------+--------+-----+----+\n",
      "|   id| timestamp| type|page_id|     tag| sign|time|\n",
      "+-----+----------+-----+-------+--------+-----+----+\n",
      "|12345|1667627426|click|    101|   Sport|false|   1|\n",
      "|12346|1667627427|visit|    102|Медицина|false|   1|\n",
      "|12347|8667627428|click|    103|   Sport| true|   4|\n",
      "|12346|1667627429|click|    104|Политика|false|   1|\n",
      "|12349|4667627430|click|    103|   Sport| true|   2|\n",
      "+-----+----------+-----+-------+--------+-----+----+\n",
      "\n"
     ]
    }
   ],
   "source": [
    "# Добавьте столбец к фрейму данных со значением временного диапазона в рамках суток с размером окна – 4 часа(0-4, 4-8, 8-12 и т.д.)\n",
    "df.withColumn('time', floor(df.timestamp % 86400 / 14400)).show()\n",
    "#df.withColumn('time', df.timestamp % 86400 / 14400).groupBy('time').count().show()\n",
    "#df.withColumn('time', round(df.timestamp % 86400 / 14400)).groupBy('time').count().show()"
   ]
  },
  {
   "cell_type": "code",
   "execution_count": null,
   "id": "4e921af9",
   "metadata": {},
   "outputs": [],
   "source": []
  }
 ],
 "metadata": {
  "kernelspec": {
   "display_name": "Python 3 (ipykernel)",
   "language": "python",
   "name": "python3"
  },
  "language_info": {
   "codemirror_mode": {
    "name": "ipython",
    "version": 3
   },
   "file_extension": ".py",
   "mimetype": "text/x-python",
   "name": "python",
   "nbconvert_exporter": "python",
   "pygments_lexer": "ipython3",
   "version": "3.9.13"
  },
  "vscode": {
   "interpreter": {
    "hash": "46361d1138d37b050dbf2507ab353201470e98370899d3e0761fa20227a2614f"
   }
  }
 },
 "nbformat": 4,
 "nbformat_minor": 5
}
